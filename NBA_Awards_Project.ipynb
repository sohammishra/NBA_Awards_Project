{
 "cells": [
  {
   "cell_type": "code",
   "execution_count": 16,
   "metadata": {},
   "outputs": [],
   "source": [
    "import numpy as np\n",
    "import pandas as pd\n",
    "pd.set_option('display.max_columns', 32)\n",
    "#%matplotlib inline\n",
    "from matplotlib import pyplot as plt\n",
    "import seaborn as sns\n",
    "sns.set_palette(\"Blues\")\n"
   ]
  },
  {
   "cell_type": "code",
   "execution_count": 17,
   "metadata": {},
   "outputs": [],
   "source": [
    "#Reading in data for each of the last 5 years\n",
    "data20 = pd.read_csv('nba20.csv')\n",
    "data19 = pd.read_csv('nba19.csv')\n",
    "data18 = pd.read_csv('nba18.csv')\n",
    "data17 = pd.read_csv('nba17.csv')\n",
    "data16 = pd.read_csv('nba16.csv')\n",
    "\n",
    "#adding Year column for each\n",
    "data20['Year'] = 2020\n",
    "data19['Year'] = 2019\n",
    "data18['Year'] = 2018\n",
    "data17['Year'] = 2017\n",
    "data16['Year'] = 2016\n",
    "\n",
    "#combining datasets into one\n",
    "data = pd.concat([data20,data19,data18,data17,data16])\n",
    "\n",
    "\n",
    "data.columns = map(str.lower, data.columns)\n",
    "\n",
    "\n",
    "#data[(data['gp']>30) & (data['mins']>20)].sort_values('+/-', ascending = False).iloc[0:15]\n",
    "data['ts']=data['pts']/(2*(data['fga'] + (.44 * data['fta'])))\n"
   ]
  },
  {
   "cell_type": "code",
   "execution_count": 18,
   "metadata": {},
   "outputs": [],
   "source": [
    "salary = pd.read_csv('nba_salary20.csv').iloc[:,[1,3]]\n",
    "\n",
    "salary['Player']=[i.split('\\\\')[0] for i in salary['Player']]\n",
    "salary.columns = ['Player','Salary']\n",
    "salary['Salary'] = [int(i.strip('$')) for i in salary['Salary']]\n",
    "\n",
    "data20_w_salary = pd.merge(data20,salary, on='Player',how='left')\n"
   ]
  },
  {
   "cell_type": "markdown",
   "metadata": {},
   "source": [
    "# MVP"
   ]
  },
  {
   "cell_type": "code",
   "execution_count": 19,
   "metadata": {},
   "outputs": [
    {
     "data": {
      "text/html": [
       "<div>\n",
       "<style scoped>\n",
       "    .dataframe tbody tr th:only-of-type {\n",
       "        vertical-align: middle;\n",
       "    }\n",
       "\n",
       "    .dataframe tbody tr th {\n",
       "        vertical-align: top;\n",
       "    }\n",
       "\n",
       "    .dataframe thead th {\n",
       "        text-align: right;\n",
       "    }\n",
       "</style>\n",
       "<table border=\"1\" class=\"dataframe\">\n",
       "  <thead>\n",
       "    <tr style=\"text-align: right;\">\n",
       "      <th></th>\n",
       "      <th>Player</th>\n",
       "      <th>Team</th>\n",
       "      <th>Age</th>\n",
       "      <th>GP</th>\n",
       "      <th>W</th>\n",
       "      <th>L</th>\n",
       "      <th>Mins</th>\n",
       "      <th>PTS</th>\n",
       "      <th>FGM</th>\n",
       "      <th>FGA</th>\n",
       "      <th>FG%</th>\n",
       "      <th>3PM</th>\n",
       "      <th>3PA</th>\n",
       "      <th>3P%</th>\n",
       "      <th>FTM</th>\n",
       "      <th>FTA</th>\n",
       "      <th>FT%</th>\n",
       "      <th>OREB</th>\n",
       "      <th>DREB</th>\n",
       "      <th>REB</th>\n",
       "      <th>AST</th>\n",
       "      <th>TOV</th>\n",
       "      <th>STL</th>\n",
       "      <th>BLK</th>\n",
       "      <th>PF</th>\n",
       "      <th>FP</th>\n",
       "      <th>DD2</th>\n",
       "      <th>TD3</th>\n",
       "      <th>+/-</th>\n",
       "      <th>Year</th>\n",
       "    </tr>\n",
       "  </thead>\n",
       "  <tbody>\n",
       "    <tr>\n",
       "      <td>2</td>\n",
       "      <td>Giannis Antetokounmpo</td>\n",
       "      <td>MIL</td>\n",
       "      <td>24</td>\n",
       "      <td>72</td>\n",
       "      <td>56</td>\n",
       "      <td>16</td>\n",
       "      <td>32.8</td>\n",
       "      <td>27.7</td>\n",
       "      <td>10.0</td>\n",
       "      <td>17.3</td>\n",
       "      <td>57.8</td>\n",
       "      <td>0.7</td>\n",
       "      <td>2.8</td>\n",
       "      <td>25.6</td>\n",
       "      <td>6.9</td>\n",
       "      <td>9.5</td>\n",
       "      <td>72.9</td>\n",
       "      <td>2.2</td>\n",
       "      <td>10.3</td>\n",
       "      <td>12.5</td>\n",
       "      <td>5.9</td>\n",
       "      <td>3.7</td>\n",
       "      <td>1.3</td>\n",
       "      <td>1.5</td>\n",
       "      <td>3.2</td>\n",
       "      <td>56.2</td>\n",
       "      <td>54</td>\n",
       "      <td>5</td>\n",
       "      <td>9.1</td>\n",
       "      <td>2019</td>\n",
       "    </tr>\n",
       "    <tr>\n",
       "      <td>0</td>\n",
       "      <td>James Harden</td>\n",
       "      <td>HOU</td>\n",
       "      <td>28</td>\n",
       "      <td>72</td>\n",
       "      <td>59</td>\n",
       "      <td>13</td>\n",
       "      <td>35.4</td>\n",
       "      <td>30.4</td>\n",
       "      <td>9.0</td>\n",
       "      <td>20.1</td>\n",
       "      <td>44.9</td>\n",
       "      <td>3.7</td>\n",
       "      <td>10.0</td>\n",
       "      <td>36.7</td>\n",
       "      <td>8.7</td>\n",
       "      <td>10.1</td>\n",
       "      <td>85.8</td>\n",
       "      <td>0.6</td>\n",
       "      <td>4.8</td>\n",
       "      <td>5.4</td>\n",
       "      <td>8.8</td>\n",
       "      <td>4.4</td>\n",
       "      <td>1.8</td>\n",
       "      <td>0.7</td>\n",
       "      <td>2.3</td>\n",
       "      <td>53.0</td>\n",
       "      <td>31</td>\n",
       "      <td>4</td>\n",
       "      <td>7.3</td>\n",
       "      <td>2018</td>\n",
       "    </tr>\n",
       "    <tr>\n",
       "      <td>0</td>\n",
       "      <td>Russell Westbrook</td>\n",
       "      <td>OKC</td>\n",
       "      <td>28</td>\n",
       "      <td>81</td>\n",
       "      <td>46</td>\n",
       "      <td>35</td>\n",
       "      <td>34.6</td>\n",
       "      <td>31.6</td>\n",
       "      <td>10.2</td>\n",
       "      <td>24.0</td>\n",
       "      <td>42.5</td>\n",
       "      <td>2.5</td>\n",
       "      <td>7.2</td>\n",
       "      <td>34.3</td>\n",
       "      <td>8.8</td>\n",
       "      <td>10.4</td>\n",
       "      <td>84.5</td>\n",
       "      <td>1.7</td>\n",
       "      <td>9.0</td>\n",
       "      <td>10.7</td>\n",
       "      <td>10.4</td>\n",
       "      <td>5.4</td>\n",
       "      <td>1.6</td>\n",
       "      <td>0.4</td>\n",
       "      <td>2.3</td>\n",
       "      <td>60.6</td>\n",
       "      <td>62</td>\n",
       "      <td>42</td>\n",
       "      <td>3.1</td>\n",
       "      <td>2017</td>\n",
       "    </tr>\n",
       "    <tr>\n",
       "      <td>0</td>\n",
       "      <td>Stephen Curry</td>\n",
       "      <td>GSW</td>\n",
       "      <td>28</td>\n",
       "      <td>79</td>\n",
       "      <td>71</td>\n",
       "      <td>8</td>\n",
       "      <td>34.2</td>\n",
       "      <td>30.1</td>\n",
       "      <td>10.2</td>\n",
       "      <td>20.2</td>\n",
       "      <td>50.4</td>\n",
       "      <td>5.1</td>\n",
       "      <td>11.2</td>\n",
       "      <td>45.4</td>\n",
       "      <td>4.6</td>\n",
       "      <td>5.1</td>\n",
       "      <td>90.8</td>\n",
       "      <td>0.9</td>\n",
       "      <td>4.6</td>\n",
       "      <td>5.4</td>\n",
       "      <td>6.7</td>\n",
       "      <td>3.3</td>\n",
       "      <td>2.1</td>\n",
       "      <td>0.2</td>\n",
       "      <td>2.0</td>\n",
       "      <td>50.3</td>\n",
       "      <td>15</td>\n",
       "      <td>2</td>\n",
       "      <td>12.9</td>\n",
       "      <td>2016</td>\n",
       "    </tr>\n",
       "  </tbody>\n",
       "</table>\n",
       "</div>"
      ],
      "text/plain": [
       "                  Player Team  Age  GP   W   L  Mins   PTS   FGM   FGA   FG%  \\\n",
       "2  Giannis Antetokounmpo  MIL   24  72  56  16  32.8  27.7  10.0  17.3  57.8   \n",
       "0           James Harden  HOU   28  72  59  13  35.4  30.4   9.0  20.1  44.9   \n",
       "0      Russell Westbrook  OKC   28  81  46  35  34.6  31.6  10.2  24.0  42.5   \n",
       "0          Stephen Curry  GSW   28  79  71   8  34.2  30.1  10.2  20.2  50.4   \n",
       "\n",
       "   3PM   3PA   3P%  FTM   FTA   FT%  OREB  DREB   REB   AST  TOV  STL  BLK  \\\n",
       "2  0.7   2.8  25.6  6.9   9.5  72.9   2.2  10.3  12.5   5.9  3.7  1.3  1.5   \n",
       "0  3.7  10.0  36.7  8.7  10.1  85.8   0.6   4.8   5.4   8.8  4.4  1.8  0.7   \n",
       "0  2.5   7.2  34.3  8.8  10.4  84.5   1.7   9.0  10.7  10.4  5.4  1.6  0.4   \n",
       "0  5.1  11.2  45.4  4.6   5.1  90.8   0.9   4.6   5.4   6.7  3.3  2.1  0.2   \n",
       "\n",
       "    PF    FP  DD2  TD3   +/-  Year  \n",
       "2  3.2  56.2   54    5   9.1  2019  \n",
       "0  2.3  53.0   31    4   7.3  2018  \n",
       "0  2.3  60.6   62   42   3.1  2017  \n",
       "0  2.0  50.3   15    2  12.9  2016  "
      ]
     },
     "execution_count": 19,
     "metadata": {},
     "output_type": "execute_result"
    }
   ],
   "source": [
    "#dataframe of the last 4 MVPs\n",
    "\n",
    "mvp19 = data19[data19['Player']=='Giannis Antetokounmpo']\n",
    "mvp18 =data18[data18['Player']=='James Harden']\n",
    "mvp17= data17[data17['Player']=='Russell Westbrook']\n",
    "mvp16 = data16[data16['Player']=='Stephen Curry']\n",
    "\n",
    "mvps = pd.concat([mvp19,mvp18,mvp17,mvp16])\n",
    "\n",
    "mvps\n"
   ]
  },
  {
   "cell_type": "code",
   "execution_count": 59,
   "metadata": {},
   "outputs": [
    {
     "data": {
      "text/plain": [
       "Text(0.5, 1.0, 'Scoring and Plus/Minus for Previous MVPs')"
      ]
     },
     "execution_count": 59,
     "metadata": {},
     "output_type": "execute_result"
    },
    {
     "data": {
      "image/png": "[encoded data removed]",
      "text/plain": [
       "<Figure size 432x288 with 1 Axes>"
      ]
     },
     "metadata": {
      "needs_background": "light"
     },
     "output_type": "display_data"
    }
   ],
   "source": [
    "#points and Plus/Minus are two of the main focusses when choosing MVP\n",
    "mvps.set_index('Player')[['+/-','PTS']].plot(kind='barh')\n",
    "#mvps['+/-'].plot(kind='barh')\n",
    "plt.xlabel('')\n",
    "plt.ylabel('')\n",
    "plt.title('Scoring and Plus/Minus for Previous MVPs')\n"
   ]
  },
  {
   "cell_type": "code",
   "execution_count": 21,
   "metadata": {},
   "outputs": [
    {
     "data": {
      "text/plain": [
       "0.7659644085013283"
      ]
     },
     "execution_count": 21,
     "metadata": {},
     "output_type": "execute_result"
    }
   ],
   "source": [
    "#addtionally, the entire team performance is also a determining factor\n",
    "mvps['Win Percentage'] = mvps['W']/(mvps['W'] + mvps['L'])\n",
    "mvps['Win Percentage'].mean()"
   ]
  },
  {
   "cell_type": "code",
   "execution_count": 55,
   "metadata": {},
   "outputs": [
    {
     "data": {
      "text/plain": [
       "Text(0, 0.5, '')"
      ]
     },
     "execution_count": 55,
     "metadata": {},
     "output_type": "execute_result"
    },
    {
     "data": {
      "image/png": "[encoded data removed]",
      "text/plain": [
       "<Figure size 432x288 with 1 Axes>"
      ]
     },
     "metadata": {
      "needs_background": "light"
     },
     "output_type": "display_data"
    }
   ],
   "source": [
    "mvps.set_index(\"Player\")['Win Percentage'].plot(kind='barh', ylim=(0,1))\n",
    "plt.xlabel('Season Win Percentage')\n",
    "plt.ylabel('')"
   ]
  },
  {
   "cell_type": "code",
   "execution_count": 23,
   "metadata": {
    "scrolled": true
   },
   "outputs": [],
   "source": [
    "#each of the last 4 MVPs have been in the top 10 in Plus/Minus\n",
    "\n",
    "#data16.sort_values('+/-', ascending = False)[:10]"
   ]
  },
  {
   "cell_type": "code",
   "execution_count": 24,
   "metadata": {},
   "outputs": [
    {
     "data": {
      "text/html": [
       "<div>\n",
       "<style scoped>\n",
       "    .dataframe tbody tr th:only-of-type {\n",
       "        vertical-align: middle;\n",
       "    }\n",
       "\n",
       "    .dataframe tbody tr th {\n",
       "        vertical-align: top;\n",
       "    }\n",
       "\n",
       "    .dataframe thead th {\n",
       "        text-align: right;\n",
       "    }\n",
       "</style>\n",
       "<table border=\"1\" class=\"dataframe\">\n",
       "  <thead>\n",
       "    <tr style=\"text-align: right;\">\n",
       "      <th></th>\n",
       "      <th>Player</th>\n",
       "      <th>Team</th>\n",
       "      <th>GP</th>\n",
       "      <th>W</th>\n",
       "      <th>L</th>\n",
       "      <th>Mins</th>\n",
       "      <th>PTS</th>\n",
       "      <th>FG%</th>\n",
       "      <th>3P%</th>\n",
       "      <th>FTA</th>\n",
       "      <th>REB</th>\n",
       "      <th>AST</th>\n",
       "      <th>STL</th>\n",
       "      <th>BLK</th>\n",
       "      <th>DD2</th>\n",
       "      <th>TD3</th>\n",
       "      <th>+/-</th>\n",
       "    </tr>\n",
       "  </thead>\n",
       "  <tbody>\n",
       "    <tr>\n",
       "      <td>2</td>\n",
       "      <td>Giannis Antetokounmpo</td>\n",
       "      <td>MIL</td>\n",
       "      <td>57</td>\n",
       "      <td>48</td>\n",
       "      <td>9</td>\n",
       "      <td>30.9</td>\n",
       "      <td>29.6</td>\n",
       "      <td>54.7</td>\n",
       "      <td>30.6</td>\n",
       "      <td>10.0</td>\n",
       "      <td>13.7</td>\n",
       "      <td>5.8</td>\n",
       "      <td>1.0</td>\n",
       "      <td>1.0</td>\n",
       "      <td>52</td>\n",
       "      <td>4</td>\n",
       "      <td>11.4</td>\n",
       "    </tr>\n",
       "    <tr>\n",
       "      <td>12</td>\n",
       "      <td>LeBron James</td>\n",
       "      <td>LAL</td>\n",
       "      <td>60</td>\n",
       "      <td>47</td>\n",
       "      <td>13</td>\n",
       "      <td>34.9</td>\n",
       "      <td>25.7</td>\n",
       "      <td>49.8</td>\n",
       "      <td>34.9</td>\n",
       "      <td>5.7</td>\n",
       "      <td>7.9</td>\n",
       "      <td>10.6</td>\n",
       "      <td>1.2</td>\n",
       "      <td>0.5</td>\n",
       "      <td>42</td>\n",
       "      <td>13</td>\n",
       "      <td>8.1</td>\n",
       "    </tr>\n",
       "    <tr>\n",
       "      <td>8</td>\n",
       "      <td>Kawhi Leonard</td>\n",
       "      <td>LAC</td>\n",
       "      <td>51</td>\n",
       "      <td>38</td>\n",
       "      <td>13</td>\n",
       "      <td>32.2</td>\n",
       "      <td>26.9</td>\n",
       "      <td>46.9</td>\n",
       "      <td>36.6</td>\n",
       "      <td>6.9</td>\n",
       "      <td>7.3</td>\n",
       "      <td>5.0</td>\n",
       "      <td>1.8</td>\n",
       "      <td>0.6</td>\n",
       "      <td>13</td>\n",
       "      <td>1</td>\n",
       "      <td>7.8</td>\n",
       "    </tr>\n",
       "    <tr>\n",
       "      <td>5</td>\n",
       "      <td>Luka Doncic</td>\n",
       "      <td>DAL</td>\n",
       "      <td>54</td>\n",
       "      <td>34</td>\n",
       "      <td>20</td>\n",
       "      <td>33.3</td>\n",
       "      <td>28.7</td>\n",
       "      <td>46.1</td>\n",
       "      <td>31.8</td>\n",
       "      <td>9.1</td>\n",
       "      <td>9.3</td>\n",
       "      <td>8.7</td>\n",
       "      <td>1.1</td>\n",
       "      <td>0.2</td>\n",
       "      <td>34</td>\n",
       "      <td>14</td>\n",
       "      <td>4.8</td>\n",
       "    </tr>\n",
       "    <tr>\n",
       "      <td>0</td>\n",
       "      <td>James Harden</td>\n",
       "      <td>HOU</td>\n",
       "      <td>61</td>\n",
       "      <td>39</td>\n",
       "      <td>22</td>\n",
       "      <td>36.7</td>\n",
       "      <td>34.4</td>\n",
       "      <td>43.5</td>\n",
       "      <td>35.2</td>\n",
       "      <td>11.8</td>\n",
       "      <td>6.4</td>\n",
       "      <td>7.4</td>\n",
       "      <td>1.7</td>\n",
       "      <td>0.9</td>\n",
       "      <td>19</td>\n",
       "      <td>4</td>\n",
       "      <td>4.1</td>\n",
       "    </tr>\n",
       "  </tbody>\n",
       "</table>\n",
       "</div>"
      ],
      "text/plain": [
       "                   Player Team  GP   W   L  Mins   PTS   FG%   3P%   FTA  \\\n",
       "2   Giannis Antetokounmpo  MIL  57  48   9  30.9  29.6  54.7  30.6  10.0   \n",
       "12           LeBron James  LAL  60  47  13  34.9  25.7  49.8  34.9   5.7   \n",
       "8           Kawhi Leonard  LAC  51  38  13  32.2  26.9  46.9  36.6   6.9   \n",
       "5             Luka Doncic  DAL  54  34  20  33.3  28.7  46.1  31.8   9.1   \n",
       "0            James Harden  HOU  61  39  22  36.7  34.4  43.5  35.2  11.8   \n",
       "\n",
       "     REB   AST  STL  BLK  DD2  TD3   +/-  \n",
       "2   13.7   5.8  1.0  1.0   52    4  11.4  \n",
       "12   7.9  10.6  1.2  0.5   42   13   8.1  \n",
       "8    7.3   5.0  1.8  0.6   13    1   7.8  \n",
       "5    9.3   8.7  1.1  0.2   34   14   4.8  \n",
       "0    6.4   7.4  1.7  0.9   19    4   4.1  "
      ]
     },
     "execution_count": 24,
     "metadata": {},
     "output_type": "execute_result"
    }
   ],
   "source": [
    "#This season, Giannis has been on a different level\n",
    "select20 = ['Player','Team','GP','W','L','Mins','PTS','FG%','3P%','FTA','REB','AST','STL','BLK','DD2','TD3','+/-']\n",
    "twenty20_filter = data20[(data20['GP']>30) & (data20['PTS']>20)].sort_values('+/-', ascending = False)[select20]\n",
    "\n",
    "twenty20_mvps = twenty20_filter.loc[twenty20_filter['Player'].isin(\n",
    "    ['Giannis Antetokounmpo','LeBron James','James Harden','Luka Doncic','Kawhi Leonard'])]\n",
    "\n",
    "twenty20_mvps "
   ]
  },
  {
   "cell_type": "code",
   "execution_count": 66,
   "metadata": {},
   "outputs": [
    {
     "data": {
      "text/plain": [
       "Text(0, 0.5, '')"
      ]
     },
     "execution_count": 66,
     "metadata": {},
     "output_type": "execute_result"
    },
    {
     "data": {
      "image/png": "[encoded data removed]",
      "text/plain": [
       "<Figure size 432x288 with 1 Axes>"
      ]
     },
     "metadata": {
      "needs_background": "light"
     },
     "output_type": "display_data"
    }
   ],
   "source": [
    "#comparing this years MVP candidates with previous MVP scoring average\n",
    "twenty20_mvps.set_index('Player')[['+/-','PTS']].plot(kind='barh')\n",
    "plt.title('2020 Points per Game and Plus/Minus')\n",
    "plt.axvline(29.9, color=\"k\", linestyle=\"--\")\n",
    "plt.legend(loc='center left', bbox_to_anchor=(1, 0.5))\n",
    "plt.ylabel('')"
   ]
  },
  {
   "cell_type": "code",
   "execution_count": 67,
   "metadata": {},
   "outputs": [
    {
     "name": "stderr",
     "output_type": "stream",
     "text": [
      "/opt/anaconda3/lib/python3.7/site-packages/ipykernel_launcher.py:1: SettingWithCopyWarning: \n",
      "A value is trying to be set on a copy of a slice from a DataFrame.\n",
      "Try using .loc[row_indexer,col_indexer] = value instead\n",
      "\n",
      "See the caveats in the documentation: http://pandas.pydata.org/pandas-docs/stable/user_guide/indexing.html#returning-a-view-versus-a-copy\n",
      "  \"\"\"Entry point for launching an IPython kernel.\n"
     ]
    },
    {
     "data": {
      "text/plain": [
       "Text(0, 0.5, '')"
      ]
     },
     "execution_count": 67,
     "metadata": {},
     "output_type": "execute_result"
    },
    {
     "data": {
      "image/png": "[encoded data removed]",
      "text/plain": [
       "<Figure size 432x288 with 1 Axes>"
      ]
     },
     "metadata": {
      "needs_background": "light"
     },
     "output_type": "display_data"
    }
   ],
   "source": [
    "#comparing this years MVP candidates with previous MVP win percentage\n",
    "twenty20_mvps['Win Percentage'] = twenty20_mvps['W']/(twenty20_mvps['W'] + twenty20_mvps['L'])\n",
    "twenty20_mvps.set_index('Player')[['Win Percentage']].plot(kind='barh',legend=False)\n",
    "plt.xlabel('Win Percentage this Season')\n",
    "plt.title('2020 Win Percentages')\n",
    "plt.axvline(.77, color=\"k\", linestyle=\"--\")\n",
    "plt.ylabel('')"
   ]
  },
  {
   "cell_type": "code",
   "execution_count": 27,
   "metadata": {},
   "outputs": [
    {
     "data": {
      "text/plain": [
       "Text(0, 0.5, '')"
      ]
     },
     "execution_count": 27,
     "metadata": {},
     "output_type": "execute_result"
    },
    {
     "data": {
      "image/png": "[encoded data removed]",
      "text/plain": [
       "<Figure size 432x288 with 1 Axes>"
      ]
     },
     "metadata": {
      "needs_background": "light"
     },
     "output_type": "display_data"
    }
   ],
   "source": [
    "#If you are wonder how Westbrook won an MVP, he is a Tripple Double machine\n",
    "\n",
    "select = ['Player','Team','GP','W','L','Mins','PTS','FG%','3P%','FTA','REB','AST','STL','BLK','DD2','TD3','+/-']\n",
    "\n",
    "total_td3 = data.groupby('player').sum()[['td3']]\n",
    "top10_td3 = total_td3.sort_values('td3', ascending=False)[:10]\n",
    "top10_td3.plot(kind='barh',legend=False)\n",
    "plt.title('Triple Doubles in Last 5 Years')\n",
    "plt.ylabel('')"
   ]
  },
  {
   "cell_type": "markdown",
   "metadata": {},
   "source": [
    "# Rookie of the Year"
   ]
  },
  {
   "cell_type": "code",
   "execution_count": 28,
   "metadata": {},
   "outputs": [],
   "source": [
    "#Potential ROY for 2020:\n",
    "\n",
    "rookies20 = data20[data20['Player'].isin(\n",
    "    ['Coby White','Zion Williamson', 'Ja Morant','Brandon Clarke','Kendrick Nunn',\"De'Andre Hunter\"])]\n",
    "\n",
    "\n",
    "#Previous ROYs\n",
    "roy19 = data19[data19['Player']=='Luka Doncic']\n",
    "roy18 = data18[data18['Player']=='Ben Simmons']\n",
    "roy17 = data17[data17['Player']=='Malcolm Brogdon']\n",
    "roy16 = data16[data16['Player']=='Karl-Anthony Towns']\n",
    "\n",
    "roys = pd.concat([roy19,roy18,roy17,roy16])\n"
   ]
  },
  {
   "cell_type": "code",
   "execution_count": 72,
   "metadata": {},
   "outputs": [
    {
     "data": {
      "text/plain": [
       "Text(0.5, 1.0, 'Scoring and Plus/Minus for Previous ROYs')"
      ]
     },
     "execution_count": 72,
     "metadata": {},
     "output_type": "execute_result"
    },
    {
     "data": {
      "image/png": "[encoded data removed]",
      "text/plain": [
       "<Figure size 432x288 with 1 Axes>"
      ]
     },
     "metadata": {
      "needs_background": "light"
     },
     "output_type": "display_data"
    }
   ],
   "source": [
    "#ROY has taken individual ability into account more than team contribution over the last 5 years\n",
    "roys.set_index('Player')[['+/-','PTS']].plot(kind='barh')\n",
    "#plt.axvline(16.375, color=\"k\", linestyle=\"--\")\n",
    "plt.ylabel('')\n",
    "plt.title('Scoring and Plus/Minus for Previous ROYs')"
   ]
  },
  {
   "cell_type": "code",
   "execution_count": 71,
   "metadata": {},
   "outputs": [
    {
     "data": {
      "text/plain": [
       "Text(0, 0.5, '')"
      ]
     },
     "execution_count": 71,
     "metadata": {},
     "output_type": "execute_result"
    },
    {
     "data": {
      "image/png": "[encoded data removed]",
      "text/plain": [
       "<Figure size 432x288 with 1 Axes>"
      ]
     },
     "metadata": {
      "needs_background": "light"
     },
     "output_type": "display_data"
    }
   ],
   "source": [
    "#Ja Morant and Zion Williamson have the clear advantage in the scoring category\n",
    "#sns.catplot(x='PTS', y=\"Player\", data=rookies20,\n",
    "                #height=6, kind=\"bar\", palette = 'Blues')\n",
    "rookies20.set_index('Player')[['+/-','PTS']].plot(kind='barh')\n",
    "plt.axvline(16.375, color=\"k\", linestyle=\"--\", label='avg')\n",
    "plt.title('Scoring and Plus/Minus for 2020 ROY Candidates')\n",
    "plt.ylabel('')"
   ]
  },
  {
   "cell_type": "code",
   "execution_count": 46,
   "metadata": {},
   "outputs": [
    {
     "name": "stderr",
     "output_type": "stream",
     "text": [
      "/opt/anaconda3/lib/python3.7/site-packages/ipykernel_launcher.py:1: SettingWithCopyWarning: \n",
      "A value is trying to be set on a copy of a slice from a DataFrame.\n",
      "Try using .loc[row_indexer,col_indexer] = value instead\n",
      "\n",
      "See the caveats in the documentation: http://pandas.pydata.org/pandas-docs/stable/user_guide/indexing.html#returning-a-view-versus-a-copy\n",
      "  \"\"\"Entry point for launching an IPython kernel.\n"
     ]
    }
   ],
   "source": [
    "rookies20['TS']=rookies20['PTS']/(2*(rookies20['FGA'] + (.44 * rookies20['FTA'])))"
   ]
  },
  {
   "cell_type": "code",
   "execution_count": 63,
   "metadata": {},
   "outputs": [
    {
     "data": {
      "text/plain": [
       "<matplotlib.legend.Legend at 0x1a24978850>"
      ]
     },
     "execution_count": 63,
     "metadata": {},
     "output_type": "execute_result"
    },
    {
     "data": {
      "image/png": "[encoded data removed]",
      "text/plain": [
       "<Figure size 432x288 with 1 Axes>"
      ]
     },
     "metadata": {
      "needs_background": "light"
     },
     "output_type": "display_data"
    }
   ],
   "source": [
    "#At this rate...Zion Williamson should win Rookie of the Year - He has the highest Scoring + Efficiency\n",
    "sns.scatterplot(x='PTS', y='TS', hue = 'Player', data=rookies20, s =100, palette = sns.color_palette(\"Blues\"))\n",
    "plt.title('Rookies 2020 - Total Shooting Percentage vs Points per Game')\n",
    "plt.legend(loc='center left', bbox_to_anchor=(1, 0.5))"
   ]
  },
  {
   "cell_type": "markdown",
   "metadata": {},
   "source": [
    "# NBA Champion\n"
   ]
  },
  {
   "cell_type": "code",
   "execution_count": 31,
   "metadata": {},
   "outputs": [
    {
     "data": {
      "text/plain": [
       "Text(0.5, 1.0, 'Average Plus/Minus Per Team')"
      ]
     },
     "execution_count": 31,
     "metadata": {},
     "output_type": "execute_result"
    },
    {
     "data": {
      "image/png": "[encoded data removed]",
      "text/plain": [
       "<Figure size 432x288 with 1 Axes>"
      ]
     },
     "metadata": {
      "needs_background": "light"
     },
     "output_type": "display_data"
    }
   ],
   "source": [
    "#filtering for relavent players\n",
    "relavent20 = data20[(data20['GP']>30) & (data20['Mins']>20)]\n",
    "\n",
    "#Box plot based on Plus/Minus rating \n",
    "plt.axes([2, 2, 2, 2])\n",
    "order = relavent20.groupby('Team').median()['+/-'].sort_values(ascending=False).index\n",
    "sns.boxplot(x='Team', y='+/-', data=relavent20, order=order, palette = sns.color_palette(\"Blues\", n_colors=30))\n",
    "plt.title('Average Plus/Minus Per Team')"
   ]
  },
  {
   "cell_type": "code",
   "execution_count": 32,
   "metadata": {},
   "outputs": [
    {
     "data": {
      "text/plain": [
       "Text(0, 0.5, 'Number of Players')"
      ]
     },
     "execution_count": 32,
     "metadata": {},
     "output_type": "execute_result"
    },
    {
     "data": {
      "image/png": "[encoded data removed]",
      "text/plain": [
       "<Figure size 432x288 with 1 Axes>"
      ]
     },
     "metadata": {
      "needs_background": "light"
     },
     "output_type": "display_data"
    }
   ],
   "source": [
    "#filtering for top 20 best players in Plus/Minus\n",
    "relavent_top_pm = relavent20.sort_values('+/-', ascending=False)[:20]\n",
    "\n",
    "pm_count = relavent_top_pm.groupby('Team').count()[['+/-']] #group by team and get count\n",
    "pm_count = pm_count.reset_index()\n",
    "\n",
    "order = pm_count.sort_values('+/-', ascending=False).index\n",
    "#pm_count.sort_values('+/-', ascending=False).index\n",
    "\n",
    "\n",
    "#barplot showing how many of the top 20 players based on Plus/Minus that each team has\n",
    "sns.barplot(x='Team',y='+/-',data = pm_count, palette = sns.color_palette(\"Blues\"))\n",
    "plt.title('Top 20 Plus/Minus Count')\n",
    "plt.ylabel('Number of Players')"
   ]
  },
  {
   "cell_type": "markdown",
   "metadata": {},
   "source": [
    "# Rising Stars"
   ]
  },
  {
   "cell_type": "code",
   "execution_count": 33,
   "metadata": {},
   "outputs": [
    {
     "data": {
      "text/plain": [
       "0      0.616664\n",
       "1      0.577214\n",
       "2      0.606557\n",
       "3      0.594569\n",
       "4      0.619003\n",
       "         ...   \n",
       "509    0.000000\n",
       "510    0.000000\n",
       "511    0.000000\n",
       "512    0.000000\n",
       "513    0.000000\n",
       "Length: 514, dtype: float64"
      ]
     },
     "execution_count": 33,
     "metadata": {},
     "output_type": "execute_result"
    }
   ],
   "source": [
    "data20_ts = data20['PTS']/(2*(data20['FGA'] + (.44 * data20['FTA'])))\n",
    "data20_ts"
   ]
  },
  {
   "cell_type": "code",
   "execution_count": 34,
   "metadata": {},
   "outputs": [
    {
     "data": {
      "text/html": [
       "<div>\n",
       "<style scoped>\n",
       "    .dataframe tbody tr th:only-of-type {\n",
       "        vertical-align: middle;\n",
       "    }\n",
       "\n",
       "    .dataframe tbody tr th {\n",
       "        vertical-align: top;\n",
       "    }\n",
       "\n",
       "    .dataframe thead th {\n",
       "        text-align: right;\n",
       "    }\n",
       "</style>\n",
       "<table border=\"1\" class=\"dataframe\">\n",
       "  <thead>\n",
       "    <tr style=\"text-align: right;\">\n",
       "      <th></th>\n",
       "      <th>Player</th>\n",
       "      <th>Team</th>\n",
       "      <th>Age</th>\n",
       "      <th>GP</th>\n",
       "      <th>W</th>\n",
       "      <th>L</th>\n",
       "      <th>Mins</th>\n",
       "      <th>PTS</th>\n",
       "      <th>FGM</th>\n",
       "      <th>FGA</th>\n",
       "      <th>FG%</th>\n",
       "      <th>3PM</th>\n",
       "      <th>3PA</th>\n",
       "      <th>3P%</th>\n",
       "      <th>FTM</th>\n",
       "      <th>FTA</th>\n",
       "      <th>FT%</th>\n",
       "      <th>OREB</th>\n",
       "      <th>DREB</th>\n",
       "      <th>REB</th>\n",
       "      <th>AST</th>\n",
       "      <th>TOV</th>\n",
       "      <th>STL</th>\n",
       "      <th>BLK</th>\n",
       "      <th>PF</th>\n",
       "      <th>FP</th>\n",
       "      <th>DD2</th>\n",
       "      <th>TD3</th>\n",
       "      <th>+/-</th>\n",
       "      <th>Year</th>\n",
       "    </tr>\n",
       "  </thead>\n",
       "  <tbody>\n",
       "    <tr>\n",
       "      <td>190</td>\n",
       "      <td>Donte DiVincenzo</td>\n",
       "      <td>MIL</td>\n",
       "      <td>23</td>\n",
       "      <td>59</td>\n",
       "      <td>51</td>\n",
       "      <td>8</td>\n",
       "      <td>23.1</td>\n",
       "      <td>9.4</td>\n",
       "      <td>3.5</td>\n",
       "      <td>7.7</td>\n",
       "      <td>46.2</td>\n",
       "      <td>1.3</td>\n",
       "      <td>3.7</td>\n",
       "      <td>34.4</td>\n",
       "      <td>1.0</td>\n",
       "      <td>1.3</td>\n",
       "      <td>76.9</td>\n",
       "      <td>1.0</td>\n",
       "      <td>3.9</td>\n",
       "      <td>4.9</td>\n",
       "      <td>2.3</td>\n",
       "      <td>1.2</td>\n",
       "      <td>1.4</td>\n",
       "      <td>0.3</td>\n",
       "      <td>1.6</td>\n",
       "      <td>22.5</td>\n",
       "      <td>1</td>\n",
       "      <td>0</td>\n",
       "      <td>6.9</td>\n",
       "      <td>2020</td>\n",
       "    </tr>\n",
       "    <tr>\n",
       "      <td>231</td>\n",
       "      <td>Terence Davis</td>\n",
       "      <td>TOR</td>\n",
       "      <td>22</td>\n",
       "      <td>64</td>\n",
       "      <td>46</td>\n",
       "      <td>18</td>\n",
       "      <td>17.0</td>\n",
       "      <td>7.7</td>\n",
       "      <td>2.8</td>\n",
       "      <td>6.1</td>\n",
       "      <td>46.3</td>\n",
       "      <td>1.4</td>\n",
       "      <td>3.5</td>\n",
       "      <td>39.6</td>\n",
       "      <td>0.7</td>\n",
       "      <td>0.8</td>\n",
       "      <td>86.5</td>\n",
       "      <td>0.7</td>\n",
       "      <td>2.7</td>\n",
       "      <td>3.4</td>\n",
       "      <td>1.7</td>\n",
       "      <td>1.0</td>\n",
       "      <td>0.5</td>\n",
       "      <td>0.2</td>\n",
       "      <td>1.6</td>\n",
       "      <td>15.4</td>\n",
       "      <td>1</td>\n",
       "      <td>0</td>\n",
       "      <td>3.5</td>\n",
       "      <td>2020</td>\n",
       "    </tr>\n",
       "    <tr>\n",
       "      <td>220</td>\n",
       "      <td>Jalen Brunson</td>\n",
       "      <td>DAL</td>\n",
       "      <td>23</td>\n",
       "      <td>57</td>\n",
       "      <td>34</td>\n",
       "      <td>23</td>\n",
       "      <td>17.9</td>\n",
       "      <td>8.2</td>\n",
       "      <td>3.2</td>\n",
       "      <td>6.8</td>\n",
       "      <td>46.6</td>\n",
       "      <td>0.8</td>\n",
       "      <td>2.1</td>\n",
       "      <td>35.8</td>\n",
       "      <td>1.1</td>\n",
       "      <td>1.3</td>\n",
       "      <td>81.3</td>\n",
       "      <td>0.4</td>\n",
       "      <td>2.0</td>\n",
       "      <td>2.4</td>\n",
       "      <td>3.3</td>\n",
       "      <td>1.2</td>\n",
       "      <td>0.4</td>\n",
       "      <td>0.1</td>\n",
       "      <td>1.3</td>\n",
       "      <td>16.2</td>\n",
       "      <td>2</td>\n",
       "      <td>0</td>\n",
       "      <td>3.0</td>\n",
       "      <td>2020</td>\n",
       "    </tr>\n",
       "    <tr>\n",
       "      <td>227</td>\n",
       "      <td>Ivica Zubac</td>\n",
       "      <td>LAC</td>\n",
       "      <td>23</td>\n",
       "      <td>64</td>\n",
       "      <td>44</td>\n",
       "      <td>20</td>\n",
       "      <td>18.1</td>\n",
       "      <td>8.0</td>\n",
       "      <td>3.2</td>\n",
       "      <td>5.3</td>\n",
       "      <td>60.1</td>\n",
       "      <td>0.0</td>\n",
       "      <td>0.0</td>\n",
       "      <td>0.0</td>\n",
       "      <td>1.7</td>\n",
       "      <td>2.2</td>\n",
       "      <td>75.9</td>\n",
       "      <td>2.6</td>\n",
       "      <td>4.6</td>\n",
       "      <td>7.2</td>\n",
       "      <td>1.1</td>\n",
       "      <td>0.8</td>\n",
       "      <td>0.2</td>\n",
       "      <td>0.9</td>\n",
       "      <td>2.3</td>\n",
       "      <td>20.8</td>\n",
       "      <td>7</td>\n",
       "      <td>0</td>\n",
       "      <td>2.8</td>\n",
       "      <td>2020</td>\n",
       "    </tr>\n",
       "    <tr>\n",
       "      <td>183</td>\n",
       "      <td>Landry Shamet</td>\n",
       "      <td>LAC</td>\n",
       "      <td>23</td>\n",
       "      <td>47</td>\n",
       "      <td>31</td>\n",
       "      <td>16</td>\n",
       "      <td>27.5</td>\n",
       "      <td>9.7</td>\n",
       "      <td>3.1</td>\n",
       "      <td>7.5</td>\n",
       "      <td>41.6</td>\n",
       "      <td>2.2</td>\n",
       "      <td>5.7</td>\n",
       "      <td>39.2</td>\n",
       "      <td>1.2</td>\n",
       "      <td>1.3</td>\n",
       "      <td>90.5</td>\n",
       "      <td>0.1</td>\n",
       "      <td>1.8</td>\n",
       "      <td>1.9</td>\n",
       "      <td>1.9</td>\n",
       "      <td>0.8</td>\n",
       "      <td>0.4</td>\n",
       "      <td>0.2</td>\n",
       "      <td>2.8</td>\n",
       "      <td>15.8</td>\n",
       "      <td>0</td>\n",
       "      <td>0</td>\n",
       "      <td>2.7</td>\n",
       "      <td>2020</td>\n",
       "    </tr>\n",
       "    <tr>\n",
       "      <td>223</td>\n",
       "      <td>De'Anthony Melton</td>\n",
       "      <td>MEM</td>\n",
       "      <td>21</td>\n",
       "      <td>52</td>\n",
       "      <td>25</td>\n",
       "      <td>27</td>\n",
       "      <td>19.4</td>\n",
       "      <td>8.1</td>\n",
       "      <td>2.8</td>\n",
       "      <td>6.8</td>\n",
       "      <td>41.9</td>\n",
       "      <td>0.7</td>\n",
       "      <td>2.3</td>\n",
       "      <td>31.6</td>\n",
       "      <td>1.7</td>\n",
       "      <td>2.0</td>\n",
       "      <td>82.1</td>\n",
       "      <td>0.7</td>\n",
       "      <td>3.0</td>\n",
       "      <td>3.7</td>\n",
       "      <td>3.0</td>\n",
       "      <td>1.5</td>\n",
       "      <td>1.3</td>\n",
       "      <td>0.3</td>\n",
       "      <td>1.8</td>\n",
       "      <td>20.3</td>\n",
       "      <td>0</td>\n",
       "      <td>0</td>\n",
       "      <td>2.4</td>\n",
       "      <td>2020</td>\n",
       "    </tr>\n",
       "    <tr>\n",
       "      <td>394</td>\n",
       "      <td>Grant Williams</td>\n",
       "      <td>BOS</td>\n",
       "      <td>21</td>\n",
       "      <td>62</td>\n",
       "      <td>43</td>\n",
       "      <td>19</td>\n",
       "      <td>15.6</td>\n",
       "      <td>3.5</td>\n",
       "      <td>1.3</td>\n",
       "      <td>3.1</td>\n",
       "      <td>41.7</td>\n",
       "      <td>0.3</td>\n",
       "      <td>1.4</td>\n",
       "      <td>24.7</td>\n",
       "      <td>0.6</td>\n",
       "      <td>0.8</td>\n",
       "      <td>72.5</td>\n",
       "      <td>0.9</td>\n",
       "      <td>1.7</td>\n",
       "      <td>2.7</td>\n",
       "      <td>1.0</td>\n",
       "      <td>0.7</td>\n",
       "      <td>0.5</td>\n",
       "      <td>0.5</td>\n",
       "      <td>2.4</td>\n",
       "      <td>10.4</td>\n",
       "      <td>0</td>\n",
       "      <td>0</td>\n",
       "      <td>2.4</td>\n",
       "      <td>2020</td>\n",
       "    </tr>\n",
       "    <tr>\n",
       "      <td>284</td>\n",
       "      <td>Luguentz Dort</td>\n",
       "      <td>OKC</td>\n",
       "      <td>21</td>\n",
       "      <td>29</td>\n",
       "      <td>22</td>\n",
       "      <td>7</td>\n",
       "      <td>22.0</td>\n",
       "      <td>6.2</td>\n",
       "      <td>2.2</td>\n",
       "      <td>5.4</td>\n",
       "      <td>41.4</td>\n",
       "      <td>0.8</td>\n",
       "      <td>2.5</td>\n",
       "      <td>30.1</td>\n",
       "      <td>1.0</td>\n",
       "      <td>1.2</td>\n",
       "      <td>77.8</td>\n",
       "      <td>0.5</td>\n",
       "      <td>1.3</td>\n",
       "      <td>1.9</td>\n",
       "      <td>0.7</td>\n",
       "      <td>0.5</td>\n",
       "      <td>0.8</td>\n",
       "      <td>0.1</td>\n",
       "      <td>2.7</td>\n",
       "      <td>11.6</td>\n",
       "      <td>0</td>\n",
       "      <td>0</td>\n",
       "      <td>1.7</td>\n",
       "      <td>2020</td>\n",
       "    </tr>\n",
       "    <tr>\n",
       "      <td>157</td>\n",
       "      <td>Josh Jackson</td>\n",
       "      <td>MEM</td>\n",
       "      <td>23</td>\n",
       "      <td>18</td>\n",
       "      <td>9</td>\n",
       "      <td>9</td>\n",
       "      <td>19.8</td>\n",
       "      <td>10.4</td>\n",
       "      <td>3.8</td>\n",
       "      <td>8.6</td>\n",
       "      <td>43.9</td>\n",
       "      <td>1.3</td>\n",
       "      <td>4.0</td>\n",
       "      <td>31.9</td>\n",
       "      <td>1.6</td>\n",
       "      <td>2.4</td>\n",
       "      <td>65.9</td>\n",
       "      <td>0.6</td>\n",
       "      <td>2.6</td>\n",
       "      <td>3.2</td>\n",
       "      <td>1.7</td>\n",
       "      <td>1.4</td>\n",
       "      <td>1.0</td>\n",
       "      <td>0.5</td>\n",
       "      <td>2.2</td>\n",
       "      <td>20.0</td>\n",
       "      <td>0</td>\n",
       "      <td>0</td>\n",
       "      <td>1.6</td>\n",
       "      <td>2020</td>\n",
       "    </tr>\n",
       "    <tr>\n",
       "      <td>188</td>\n",
       "      <td>Aaron Holiday</td>\n",
       "      <td>IND</td>\n",
       "      <td>23</td>\n",
       "      <td>58</td>\n",
       "      <td>36</td>\n",
       "      <td>22</td>\n",
       "      <td>23.6</td>\n",
       "      <td>9.4</td>\n",
       "      <td>3.5</td>\n",
       "      <td>8.6</td>\n",
       "      <td>40.7</td>\n",
       "      <td>1.4</td>\n",
       "      <td>3.5</td>\n",
       "      <td>39.4</td>\n",
       "      <td>1.1</td>\n",
       "      <td>1.2</td>\n",
       "      <td>86.1</td>\n",
       "      <td>0.4</td>\n",
       "      <td>1.9</td>\n",
       "      <td>2.3</td>\n",
       "      <td>3.3</td>\n",
       "      <td>1.3</td>\n",
       "      <td>0.8</td>\n",
       "      <td>0.2</td>\n",
       "      <td>1.8</td>\n",
       "      <td>18.8</td>\n",
       "      <td>2</td>\n",
       "      <td>0</td>\n",
       "      <td>1.5</td>\n",
       "      <td>2020</td>\n",
       "    </tr>\n",
       "    <tr>\n",
       "      <td>181</td>\n",
       "      <td>Furkan Korkmaz</td>\n",
       "      <td>PHI</td>\n",
       "      <td>22</td>\n",
       "      <td>64</td>\n",
       "      <td>38</td>\n",
       "      <td>26</td>\n",
       "      <td>21.8</td>\n",
       "      <td>9.7</td>\n",
       "      <td>3.5</td>\n",
       "      <td>8.0</td>\n",
       "      <td>43.2</td>\n",
       "      <td>2.0</td>\n",
       "      <td>5.0</td>\n",
       "      <td>39.7</td>\n",
       "      <td>0.8</td>\n",
       "      <td>1.1</td>\n",
       "      <td>73.6</td>\n",
       "      <td>0.3</td>\n",
       "      <td>2.1</td>\n",
       "      <td>2.3</td>\n",
       "      <td>1.1</td>\n",
       "      <td>0.8</td>\n",
       "      <td>0.6</td>\n",
       "      <td>0.2</td>\n",
       "      <td>1.4</td>\n",
       "      <td>15.7</td>\n",
       "      <td>0</td>\n",
       "      <td>0</td>\n",
       "      <td>1.4</td>\n",
       "      <td>2020</td>\n",
       "    </tr>\n",
       "    <tr>\n",
       "      <td>207</td>\n",
       "      <td>Mikal Bridges</td>\n",
       "      <td>PHX</td>\n",
       "      <td>23</td>\n",
       "      <td>65</td>\n",
       "      <td>26</td>\n",
       "      <td>39</td>\n",
       "      <td>27.3</td>\n",
       "      <td>8.7</td>\n",
       "      <td>3.2</td>\n",
       "      <td>6.3</td>\n",
       "      <td>51.6</td>\n",
       "      <td>0.9</td>\n",
       "      <td>2.4</td>\n",
       "      <td>35.2</td>\n",
       "      <td>1.4</td>\n",
       "      <td>1.6</td>\n",
       "      <td>84.8</td>\n",
       "      <td>0.9</td>\n",
       "      <td>3.1</td>\n",
       "      <td>4.0</td>\n",
       "      <td>1.8</td>\n",
       "      <td>1.0</td>\n",
       "      <td>1.4</td>\n",
       "      <td>0.6</td>\n",
       "      <td>2.2</td>\n",
       "      <td>21.2</td>\n",
       "      <td>1</td>\n",
       "      <td>0</td>\n",
       "      <td>0.7</td>\n",
       "      <td>2020</td>\n",
       "    </tr>\n",
       "    <tr>\n",
       "      <td>187</td>\n",
       "      <td>Shake Milton</td>\n",
       "      <td>PHI</td>\n",
       "      <td>23</td>\n",
       "      <td>32</td>\n",
       "      <td>19</td>\n",
       "      <td>13</td>\n",
       "      <td>19.1</td>\n",
       "      <td>9.5</td>\n",
       "      <td>3.4</td>\n",
       "      <td>6.8</td>\n",
       "      <td>49.8</td>\n",
       "      <td>1.5</td>\n",
       "      <td>3.3</td>\n",
       "      <td>45.3</td>\n",
       "      <td>1.2</td>\n",
       "      <td>1.6</td>\n",
       "      <td>76.5</td>\n",
       "      <td>0.3</td>\n",
       "      <td>1.8</td>\n",
       "      <td>2.1</td>\n",
       "      <td>2.2</td>\n",
       "      <td>1.2</td>\n",
       "      <td>0.6</td>\n",
       "      <td>0.2</td>\n",
       "      <td>2.2</td>\n",
       "      <td>16.5</td>\n",
       "      <td>0</td>\n",
       "      <td>0</td>\n",
       "      <td>0.5</td>\n",
       "      <td>2020</td>\n",
       "    </tr>\n",
       "    <tr>\n",
       "      <td>154</td>\n",
       "      <td>Jarrett Allen</td>\n",
       "      <td>BKN</td>\n",
       "      <td>22</td>\n",
       "      <td>64</td>\n",
       "      <td>30</td>\n",
       "      <td>34</td>\n",
       "      <td>25.7</td>\n",
       "      <td>10.6</td>\n",
       "      <td>4.2</td>\n",
       "      <td>6.5</td>\n",
       "      <td>64.6</td>\n",
       "      <td>0.0</td>\n",
       "      <td>0.1</td>\n",
       "      <td>0.0</td>\n",
       "      <td>2.3</td>\n",
       "      <td>3.7</td>\n",
       "      <td>62.0</td>\n",
       "      <td>3.0</td>\n",
       "      <td>6.4</td>\n",
       "      <td>9.5</td>\n",
       "      <td>1.3</td>\n",
       "      <td>1.1</td>\n",
       "      <td>0.6</td>\n",
       "      <td>1.3</td>\n",
       "      <td>2.3</td>\n",
       "      <td>28.6</td>\n",
       "      <td>26</td>\n",
       "      <td>0</td>\n",
       "      <td>0.5</td>\n",
       "      <td>2020</td>\n",
       "    </tr>\n",
       "    <tr>\n",
       "      <td>287</td>\n",
       "      <td>Hamidou Diallo</td>\n",
       "      <td>OKC</td>\n",
       "      <td>21</td>\n",
       "      <td>38</td>\n",
       "      <td>21</td>\n",
       "      <td>17</td>\n",
       "      <td>18.4</td>\n",
       "      <td>6.1</td>\n",
       "      <td>2.6</td>\n",
       "      <td>5.8</td>\n",
       "      <td>45.2</td>\n",
       "      <td>0.2</td>\n",
       "      <td>0.9</td>\n",
       "      <td>20.0</td>\n",
       "      <td>0.7</td>\n",
       "      <td>1.2</td>\n",
       "      <td>62.2</td>\n",
       "      <td>0.8</td>\n",
       "      <td>2.4</td>\n",
       "      <td>3.2</td>\n",
       "      <td>0.6</td>\n",
       "      <td>1.0</td>\n",
       "      <td>0.7</td>\n",
       "      <td>0.2</td>\n",
       "      <td>2.2</td>\n",
       "      <td>12.7</td>\n",
       "      <td>2</td>\n",
       "      <td>0</td>\n",
       "      <td>0.4</td>\n",
       "      <td>2020</td>\n",
       "    </tr>\n",
       "    <tr>\n",
       "      <td>341</td>\n",
       "      <td>Matisse Thybulle</td>\n",
       "      <td>PHI</td>\n",
       "      <td>23</td>\n",
       "      <td>57</td>\n",
       "      <td>36</td>\n",
       "      <td>21</td>\n",
       "      <td>19.5</td>\n",
       "      <td>4.7</td>\n",
       "      <td>1.7</td>\n",
       "      <td>4.1</td>\n",
       "      <td>41.0</td>\n",
       "      <td>0.9</td>\n",
       "      <td>2.5</td>\n",
       "      <td>35.2</td>\n",
       "      <td>0.4</td>\n",
       "      <td>0.7</td>\n",
       "      <td>61.0</td>\n",
       "      <td>0.6</td>\n",
       "      <td>0.9</td>\n",
       "      <td>1.5</td>\n",
       "      <td>1.2</td>\n",
       "      <td>0.8</td>\n",
       "      <td>1.4</td>\n",
       "      <td>0.7</td>\n",
       "      <td>2.1</td>\n",
       "      <td>13.9</td>\n",
       "      <td>0</td>\n",
       "      <td>0</td>\n",
       "      <td>0.4</td>\n",
       "      <td>2020</td>\n",
       "    </tr>\n",
       "    <tr>\n",
       "      <td>351</td>\n",
       "      <td>Isaac Bonga</td>\n",
       "      <td>WAS</td>\n",
       "      <td>20</td>\n",
       "      <td>58</td>\n",
       "      <td>21</td>\n",
       "      <td>37</td>\n",
       "      <td>17.7</td>\n",
       "      <td>4.6</td>\n",
       "      <td>1.7</td>\n",
       "      <td>3.2</td>\n",
       "      <td>52.2</td>\n",
       "      <td>0.4</td>\n",
       "      <td>0.9</td>\n",
       "      <td>40.0</td>\n",
       "      <td>0.9</td>\n",
       "      <td>1.1</td>\n",
       "      <td>81.3</td>\n",
       "      <td>1.1</td>\n",
       "      <td>2.1</td>\n",
       "      <td>3.2</td>\n",
       "      <td>1.1</td>\n",
       "      <td>0.7</td>\n",
       "      <td>0.6</td>\n",
       "      <td>0.4</td>\n",
       "      <td>2.3</td>\n",
       "      <td>12.2</td>\n",
       "      <td>0</td>\n",
       "      <td>0</td>\n",
       "      <td>0.4</td>\n",
       "      <td>2020</td>\n",
       "    </tr>\n",
       "  </tbody>\n",
       "</table>\n",
       "</div>"
      ],
      "text/plain": [
       "                Player Team  Age  GP   W   L  Mins   PTS  FGM  FGA   FG%  3PM  \\\n",
       "190   Donte DiVincenzo  MIL   23  59  51   8  23.1   9.4  3.5  7.7  46.2  1.3   \n",
       "231      Terence Davis  TOR   22  64  46  18  17.0   7.7  2.8  6.1  46.3  1.4   \n",
       "220      Jalen Brunson  DAL   23  57  34  23  17.9   8.2  3.2  6.8  46.6  0.8   \n",
       "227        Ivica Zubac  LAC   23  64  44  20  18.1   8.0  3.2  5.3  60.1  0.0   \n",
       "183      Landry Shamet  LAC   23  47  31  16  27.5   9.7  3.1  7.5  41.6  2.2   \n",
       "223  De'Anthony Melton  MEM   21  52  25  27  19.4   8.1  2.8  6.8  41.9  0.7   \n",
       "394     Grant Williams  BOS   21  62  43  19  15.6   3.5  1.3  3.1  41.7  0.3   \n",
       "284      Luguentz Dort  OKC   21  29  22   7  22.0   6.2  2.2  5.4  41.4  0.8   \n",
       "157       Josh Jackson  MEM   23  18   9   9  19.8  10.4  3.8  8.6  43.9  1.3   \n",
       "188      Aaron Holiday  IND   23  58  36  22  23.6   9.4  3.5  8.6  40.7  1.4   \n",
       "181     Furkan Korkmaz  PHI   22  64  38  26  21.8   9.7  3.5  8.0  43.2  2.0   \n",
       "207      Mikal Bridges  PHX   23  65  26  39  27.3   8.7  3.2  6.3  51.6  0.9   \n",
       "187       Shake Milton  PHI   23  32  19  13  19.1   9.5  3.4  6.8  49.8  1.5   \n",
       "154      Jarrett Allen  BKN   22  64  30  34  25.7  10.6  4.2  6.5  64.6  0.0   \n",
       "287     Hamidou Diallo  OKC   21  38  21  17  18.4   6.1  2.6  5.8  45.2  0.2   \n",
       "341   Matisse Thybulle  PHI   23  57  36  21  19.5   4.7  1.7  4.1  41.0  0.9   \n",
       "351        Isaac Bonga  WAS   20  58  21  37  17.7   4.6  1.7  3.2  52.2  0.4   \n",
       "\n",
       "     3PA   3P%  FTM  FTA   FT%  OREB  DREB  REB  AST  TOV  STL  BLK   PF  \\\n",
       "190  3.7  34.4  1.0  1.3  76.9   1.0   3.9  4.9  2.3  1.2  1.4  0.3  1.6   \n",
       "231  3.5  39.6  0.7  0.8  86.5   0.7   2.7  3.4  1.7  1.0  0.5  0.2  1.6   \n",
       "220  2.1  35.8  1.1  1.3  81.3   0.4   2.0  2.4  3.3  1.2  0.4  0.1  1.3   \n",
       "227  0.0   0.0  1.7  2.2  75.9   2.6   4.6  7.2  1.1  0.8  0.2  0.9  2.3   \n",
       "183  5.7  39.2  1.2  1.3  90.5   0.1   1.8  1.9  1.9  0.8  0.4  0.2  2.8   \n",
       "223  2.3  31.6  1.7  2.0  82.1   0.7   3.0  3.7  3.0  1.5  1.3  0.3  1.8   \n",
       "394  1.4  24.7  0.6  0.8  72.5   0.9   1.7  2.7  1.0  0.7  0.5  0.5  2.4   \n",
       "284  2.5  30.1  1.0  1.2  77.8   0.5   1.3  1.9  0.7  0.5  0.8  0.1  2.7   \n",
       "157  4.0  31.9  1.6  2.4  65.9   0.6   2.6  3.2  1.7  1.4  1.0  0.5  2.2   \n",
       "188  3.5  39.4  1.1  1.2  86.1   0.4   1.9  2.3  3.3  1.3  0.8  0.2  1.8   \n",
       "181  5.0  39.7  0.8  1.1  73.6   0.3   2.1  2.3  1.1  0.8  0.6  0.2  1.4   \n",
       "207  2.4  35.2  1.4  1.6  84.8   0.9   3.1  4.0  1.8  1.0  1.4  0.6  2.2   \n",
       "187  3.3  45.3  1.2  1.6  76.5   0.3   1.8  2.1  2.2  1.2  0.6  0.2  2.2   \n",
       "154  0.1   0.0  2.3  3.7  62.0   3.0   6.4  9.5  1.3  1.1  0.6  1.3  2.3   \n",
       "287  0.9  20.0  0.7  1.2  62.2   0.8   2.4  3.2  0.6  1.0  0.7  0.2  2.2   \n",
       "341  2.5  35.2  0.4  0.7  61.0   0.6   0.9  1.5  1.2  0.8  1.4  0.7  2.1   \n",
       "351  0.9  40.0  0.9  1.1  81.3   1.1   2.1  3.2  1.1  0.7  0.6  0.4  2.3   \n",
       "\n",
       "       FP  DD2  TD3  +/-  Year  \n",
       "190  22.5    1    0  6.9  2020  \n",
       "231  15.4    1    0  3.5  2020  \n",
       "220  16.2    2    0  3.0  2020  \n",
       "227  20.8    7    0  2.8  2020  \n",
       "183  15.8    0    0  2.7  2020  \n",
       "223  20.3    0    0  2.4  2020  \n",
       "394  10.4    0    0  2.4  2020  \n",
       "284  11.6    0    0  1.7  2020  \n",
       "157  20.0    0    0  1.6  2020  \n",
       "188  18.8    2    0  1.5  2020  \n",
       "181  15.7    0    0  1.4  2020  \n",
       "207  21.2    1    0  0.7  2020  \n",
       "187  16.5    0    0  0.5  2020  \n",
       "154  28.6   26    0  0.5  2020  \n",
       "287  12.7    2    0  0.4  2020  \n",
       "341  13.9    0    0  0.4  2020  \n",
       "351  12.2    0    0  0.4  2020  "
      ]
     },
     "execution_count": 34,
     "metadata": {},
     "output_type": "execute_result"
    }
   ],
   "source": [
    "#average Plus/Minus for relavent players is +.3, lets see how rising stars compare\n",
    "rising = data20[(data20['Age']<24) & (data20['+/-']>.3) & (data20['Mins']<29)& (data20['Mins']>15)&(data20['GP']>10)].sort_values('+/-',ascending=False)\n",
    "rising.groupby('Team').count()['Player']\n",
    "rising"
   ]
  },
  {
   "cell_type": "code",
   "execution_count": 51,
   "metadata": {},
   "outputs": [
    {
     "data": {
      "text/plain": [
       "Text(0, 0.5, 'Plus/Minus')"
      ]
     },
     "execution_count": 51,
     "metadata": {},
     "output_type": "execute_result"
    },
    {
     "data": {
      "image/png": "[encoded data removed]",
      "text/plain": [
       "<Figure size 432x288 with 1 Axes>"
      ]
     },
     "metadata": {
      "needs_background": "light"
     },
     "output_type": "display_data"
    }
   ],
   "source": [
    "#scatter plot comparing the rising stars \n",
    "sns.scatterplot(x='PTS', y='+/-', hue = 'Player', data=rising, s =100, palette = sns.color_palette(\"Paired\", n_colors=17))\n",
    "plt.legend(loc='center left', bbox_to_anchor=(1, 0.5))\n",
    "plt.title('Rising Stars')\n",
    "plt.xlabel('Points per Game')\n",
    "plt.ylabel('Plus/Minus')"
   ]
  },
  {
   "cell_type": "code",
   "execution_count": 50,
   "metadata": {},
   "outputs": [
    {
     "data": {
      "text/plain": [
       "Text(0.5, 1.0, 'Median Age by Team')"
      ]
     },
     "execution_count": 50,
     "metadata": {},
     "output_type": "execute_result"
    },
    {
     "data": {
      "image/png": "[encoded data removed]",
      "text/plain": [
       "<Figure size 432x288 with 1 Axes>"
      ]
     },
     "metadata": {
      "needs_background": "light"
     },
     "output_type": "display_data"
    }
   ],
   "source": [
    "#Ages Boxplot of NBA teams\n",
    "\n",
    "plt.axes([2, 2, 2, 2])\n",
    "\n",
    "order = data20.groupby('Team').mean()['Age'].sort_values(ascending=False).index\n",
    "sns.boxplot(x='Team', y='Age', data=data20,order=order, palette = sns.color_palette(\"Blues\", n_colors=30))\n",
    "plt.title('Median Age by Team')\n",
    "#plt.figure(figsize=(30,6))\n",
    "\n"
   ]
  },
  {
   "cell_type": "code",
   "execution_count": null,
   "metadata": {},
   "outputs": [],
   "source": []
  },
  {
   "cell_type": "markdown",
   "metadata": {},
   "source": [
    "# Undervalued Players\n"
   ]
  },
  {
   "cell_type": "code",
   "execution_count": 36,
   "metadata": {},
   "outputs": [],
   "source": [
    "data20_w_salary\n",
    "data20_w_salary['TS']=data20_w_salary['PTS']/(2*(data20_w_salary['FGA'] + (.44 * data20_w_salary['FTA'])))"
   ]
  },
  {
   "cell_type": "code",
   "execution_count": 37,
   "metadata": {},
   "outputs": [
    {
     "data": {
      "text/plain": [
       "430"
      ]
     },
     "execution_count": 37,
     "metadata": {},
     "output_type": "execute_result"
    }
   ],
   "source": [
    "data20_w_salary['Salary'].dropna().count()"
   ]
  },
  {
   "cell_type": "code",
   "execution_count": 38,
   "metadata": {},
   "outputs": [
    {
     "data": {
      "text/html": [
       "<div>\n",
       "<style scoped>\n",
       "    .dataframe tbody tr th:only-of-type {\n",
       "        vertical-align: middle;\n",
       "    }\n",
       "\n",
       "    .dataframe tbody tr th {\n",
       "        vertical-align: top;\n",
       "    }\n",
       "\n",
       "    .dataframe thead th {\n",
       "        text-align: right;\n",
       "    }\n",
       "</style>\n",
       "<table border=\"1\" class=\"dataframe\">\n",
       "  <thead>\n",
       "    <tr style=\"text-align: right;\">\n",
       "      <th></th>\n",
       "      <th>Player</th>\n",
       "      <th>Team</th>\n",
       "      <th>Age</th>\n",
       "      <th>GP</th>\n",
       "      <th>W</th>\n",
       "      <th>L</th>\n",
       "      <th>Mins</th>\n",
       "      <th>PTS</th>\n",
       "      <th>FGM</th>\n",
       "      <th>FGA</th>\n",
       "      <th>FG%</th>\n",
       "      <th>3PM</th>\n",
       "      <th>3PA</th>\n",
       "      <th>3P%</th>\n",
       "      <th>FTM</th>\n",
       "      <th>FTA</th>\n",
       "      <th>FT%</th>\n",
       "      <th>OREB</th>\n",
       "      <th>DREB</th>\n",
       "      <th>REB</th>\n",
       "      <th>AST</th>\n",
       "      <th>TOV</th>\n",
       "      <th>STL</th>\n",
       "      <th>BLK</th>\n",
       "      <th>PF</th>\n",
       "      <th>FP</th>\n",
       "      <th>DD2</th>\n",
       "      <th>TD3</th>\n",
       "      <th>+/-</th>\n",
       "      <th>Year</th>\n",
       "      <th>Salary</th>\n",
       "      <th>TS</th>\n",
       "    </tr>\n",
       "  </thead>\n",
       "  <tbody>\n",
       "    <tr>\n",
       "      <td>0</td>\n",
       "      <td>James Harden</td>\n",
       "      <td>HOU</td>\n",
       "      <td>30</td>\n",
       "      <td>61</td>\n",
       "      <td>39</td>\n",
       "      <td>22</td>\n",
       "      <td>36.7</td>\n",
       "      <td>34.4</td>\n",
       "      <td>9.9</td>\n",
       "      <td>22.7</td>\n",
       "      <td>43.5</td>\n",
       "      <td>4.4</td>\n",
       "      <td>12.6</td>\n",
       "      <td>35.2</td>\n",
       "      <td>10.1</td>\n",
       "      <td>11.8</td>\n",
       "      <td>86.1</td>\n",
       "      <td>1.0</td>\n",
       "      <td>5.3</td>\n",
       "      <td>6.4</td>\n",
       "      <td>7.4</td>\n",
       "      <td>4.5</td>\n",
       "      <td>1.7</td>\n",
       "      <td>0.9</td>\n",
       "      <td>3.4</td>\n",
       "      <td>56.4</td>\n",
       "      <td>19</td>\n",
       "      <td>4</td>\n",
       "      <td>4.1</td>\n",
       "      <td>2020</td>\n",
       "      <td>37800000.0</td>\n",
       "      <td>0.616664</td>\n",
       "    </tr>\n",
       "    <tr>\n",
       "      <td>1</td>\n",
       "      <td>Bradley Beal</td>\n",
       "      <td>WAS</td>\n",
       "      <td>26</td>\n",
       "      <td>57</td>\n",
       "      <td>20</td>\n",
       "      <td>37</td>\n",
       "      <td>36.0</td>\n",
       "      <td>30.5</td>\n",
       "      <td>10.4</td>\n",
       "      <td>22.9</td>\n",
       "      <td>45.5</td>\n",
       "      <td>3.0</td>\n",
       "      <td>8.4</td>\n",
       "      <td>35.3</td>\n",
       "      <td>6.8</td>\n",
       "      <td>8.0</td>\n",
       "      <td>84.2</td>\n",
       "      <td>0.9</td>\n",
       "      <td>3.3</td>\n",
       "      <td>4.2</td>\n",
       "      <td>6.1</td>\n",
       "      <td>3.4</td>\n",
       "      <td>1.2</td>\n",
       "      <td>0.4</td>\n",
       "      <td>2.2</td>\n",
       "      <td>46.3</td>\n",
       "      <td>8</td>\n",
       "      <td>0</td>\n",
       "      <td>-3.5</td>\n",
       "      <td>2020</td>\n",
       "      <td>27093019.0</td>\n",
       "      <td>0.577214</td>\n",
       "    </tr>\n",
       "    <tr>\n",
       "      <td>2</td>\n",
       "      <td>Giannis Antetokounmpo</td>\n",
       "      <td>MIL</td>\n",
       "      <td>25</td>\n",
       "      <td>57</td>\n",
       "      <td>48</td>\n",
       "      <td>9</td>\n",
       "      <td>30.9</td>\n",
       "      <td>29.6</td>\n",
       "      <td>10.9</td>\n",
       "      <td>20.0</td>\n",
       "      <td>54.7</td>\n",
       "      <td>1.5</td>\n",
       "      <td>4.8</td>\n",
       "      <td>30.6</td>\n",
       "      <td>6.3</td>\n",
       "      <td>10.0</td>\n",
       "      <td>63.3</td>\n",
       "      <td>2.3</td>\n",
       "      <td>11.5</td>\n",
       "      <td>13.7</td>\n",
       "      <td>5.8</td>\n",
       "      <td>3.7</td>\n",
       "      <td>1.0</td>\n",
       "      <td>1.0</td>\n",
       "      <td>3.0</td>\n",
       "      <td>57.3</td>\n",
       "      <td>52</td>\n",
       "      <td>4</td>\n",
       "      <td>11.4</td>\n",
       "      <td>2020</td>\n",
       "      <td>25842697.0</td>\n",
       "      <td>0.606557</td>\n",
       "    </tr>\n",
       "    <tr>\n",
       "      <td>3</td>\n",
       "      <td>Trae Young</td>\n",
       "      <td>ATL</td>\n",
       "      <td>21</td>\n",
       "      <td>60</td>\n",
       "      <td>18</td>\n",
       "      <td>42</td>\n",
       "      <td>35.3</td>\n",
       "      <td>29.6</td>\n",
       "      <td>9.1</td>\n",
       "      <td>20.8</td>\n",
       "      <td>43.7</td>\n",
       "      <td>3.4</td>\n",
       "      <td>9.5</td>\n",
       "      <td>36.1</td>\n",
       "      <td>8.0</td>\n",
       "      <td>9.3</td>\n",
       "      <td>86.0</td>\n",
       "      <td>0.5</td>\n",
       "      <td>3.7</td>\n",
       "      <td>4.3</td>\n",
       "      <td>9.3</td>\n",
       "      <td>4.8</td>\n",
       "      <td>1.1</td>\n",
       "      <td>0.1</td>\n",
       "      <td>1.7</td>\n",
       "      <td>47.6</td>\n",
       "      <td>28</td>\n",
       "      <td>2</td>\n",
       "      <td>-3.8</td>\n",
       "      <td>2020</td>\n",
       "      <td>6273000.0</td>\n",
       "      <td>0.594569</td>\n",
       "    </tr>\n",
       "    <tr>\n",
       "      <td>4</td>\n",
       "      <td>Damian Lillard</td>\n",
       "      <td>POR</td>\n",
       "      <td>29</td>\n",
       "      <td>58</td>\n",
       "      <td>27</td>\n",
       "      <td>31</td>\n",
       "      <td>36.9</td>\n",
       "      <td>28.9</td>\n",
       "      <td>9.2</td>\n",
       "      <td>20.0</td>\n",
       "      <td>45.7</td>\n",
       "      <td>3.9</td>\n",
       "      <td>9.9</td>\n",
       "      <td>39.4</td>\n",
       "      <td>6.7</td>\n",
       "      <td>7.6</td>\n",
       "      <td>88.8</td>\n",
       "      <td>0.5</td>\n",
       "      <td>3.8</td>\n",
       "      <td>4.3</td>\n",
       "      <td>7.8</td>\n",
       "      <td>2.9</td>\n",
       "      <td>1.0</td>\n",
       "      <td>0.4</td>\n",
       "      <td>1.7</td>\n",
       "      <td>47.0</td>\n",
       "      <td>16</td>\n",
       "      <td>1</td>\n",
       "      <td>1.2</td>\n",
       "      <td>2020</td>\n",
       "      <td>29802321.0</td>\n",
       "      <td>0.619003</td>\n",
       "    </tr>\n",
       "    <tr>\n",
       "      <td>...</td>\n",
       "      <td>...</td>\n",
       "      <td>...</td>\n",
       "      <td>...</td>\n",
       "      <td>...</td>\n",
       "      <td>...</td>\n",
       "      <td>...</td>\n",
       "      <td>...</td>\n",
       "      <td>...</td>\n",
       "      <td>...</td>\n",
       "      <td>...</td>\n",
       "      <td>...</td>\n",
       "      <td>...</td>\n",
       "      <td>...</td>\n",
       "      <td>...</td>\n",
       "      <td>...</td>\n",
       "      <td>...</td>\n",
       "      <td>...</td>\n",
       "      <td>...</td>\n",
       "      <td>...</td>\n",
       "      <td>...</td>\n",
       "      <td>...</td>\n",
       "      <td>...</td>\n",
       "      <td>...</td>\n",
       "      <td>...</td>\n",
       "      <td>...</td>\n",
       "      <td>...</td>\n",
       "      <td>...</td>\n",
       "      <td>...</td>\n",
       "      <td>...</td>\n",
       "      <td>...</td>\n",
       "      <td>...</td>\n",
       "      <td>...</td>\n",
       "    </tr>\n",
       "    <tr>\n",
       "      <td>534</td>\n",
       "      <td>Quinndary Weatherspoon</td>\n",
       "      <td>SAS</td>\n",
       "      <td>23</td>\n",
       "      <td>3</td>\n",
       "      <td>0</td>\n",
       "      <td>3</td>\n",
       "      <td>5.0</td>\n",
       "      <td>0.0</td>\n",
       "      <td>0.0</td>\n",
       "      <td>1.0</td>\n",
       "      <td>0.0</td>\n",
       "      <td>0.0</td>\n",
       "      <td>0.3</td>\n",
       "      <td>0.0</td>\n",
       "      <td>0.0</td>\n",
       "      <td>0.0</td>\n",
       "      <td>0.0</td>\n",
       "      <td>0.0</td>\n",
       "      <td>0.3</td>\n",
       "      <td>0.3</td>\n",
       "      <td>0.3</td>\n",
       "      <td>0.0</td>\n",
       "      <td>0.0</td>\n",
       "      <td>0.0</td>\n",
       "      <td>0.0</td>\n",
       "      <td>0.9</td>\n",
       "      <td>0</td>\n",
       "      <td>0</td>\n",
       "      <td>1.3</td>\n",
       "      <td>2020</td>\n",
       "      <td>NaN</td>\n",
       "      <td>0.000000</td>\n",
       "    </tr>\n",
       "    <tr>\n",
       "      <td>535</td>\n",
       "      <td>Stanton Kidd</td>\n",
       "      <td>UTA</td>\n",
       "      <td>28</td>\n",
       "      <td>4</td>\n",
       "      <td>3</td>\n",
       "      <td>1</td>\n",
       "      <td>3.8</td>\n",
       "      <td>0.0</td>\n",
       "      <td>0.0</td>\n",
       "      <td>0.8</td>\n",
       "      <td>0.0</td>\n",
       "      <td>0.0</td>\n",
       "      <td>0.3</td>\n",
       "      <td>0.0</td>\n",
       "      <td>0.0</td>\n",
       "      <td>0.0</td>\n",
       "      <td>0.0</td>\n",
       "      <td>0.0</td>\n",
       "      <td>0.8</td>\n",
       "      <td>0.8</td>\n",
       "      <td>0.3</td>\n",
       "      <td>0.5</td>\n",
       "      <td>0.0</td>\n",
       "      <td>0.0</td>\n",
       "      <td>0.8</td>\n",
       "      <td>0.8</td>\n",
       "      <td>0</td>\n",
       "      <td>0</td>\n",
       "      <td>-0.3</td>\n",
       "      <td>2020</td>\n",
       "      <td>250000.0</td>\n",
       "      <td>0.000000</td>\n",
       "    </tr>\n",
       "    <tr>\n",
       "      <td>536</td>\n",
       "      <td>Talen Horton-Tucker</td>\n",
       "      <td>LAL</td>\n",
       "      <td>19</td>\n",
       "      <td>2</td>\n",
       "      <td>1</td>\n",
       "      <td>1</td>\n",
       "      <td>2.7</td>\n",
       "      <td>0.0</td>\n",
       "      <td>0.0</td>\n",
       "      <td>0.5</td>\n",
       "      <td>0.0</td>\n",
       "      <td>0.0</td>\n",
       "      <td>0.5</td>\n",
       "      <td>0.0</td>\n",
       "      <td>0.0</td>\n",
       "      <td>0.0</td>\n",
       "      <td>0.0</td>\n",
       "      <td>0.0</td>\n",
       "      <td>0.0</td>\n",
       "      <td>0.0</td>\n",
       "      <td>1.0</td>\n",
       "      <td>0.0</td>\n",
       "      <td>0.5</td>\n",
       "      <td>0.0</td>\n",
       "      <td>0.0</td>\n",
       "      <td>3.0</td>\n",
       "      <td>0</td>\n",
       "      <td>0</td>\n",
       "      <td>-3.5</td>\n",
       "      <td>2020</td>\n",
       "      <td>898310.0</td>\n",
       "      <td>0.000000</td>\n",
       "    </tr>\n",
       "    <tr>\n",
       "      <td>537</td>\n",
       "      <td>Vic Law</td>\n",
       "      <td>ORL</td>\n",
       "      <td>24</td>\n",
       "      <td>5</td>\n",
       "      <td>1</td>\n",
       "      <td>4</td>\n",
       "      <td>1.9</td>\n",
       "      <td>0.0</td>\n",
       "      <td>0.0</td>\n",
       "      <td>0.6</td>\n",
       "      <td>0.0</td>\n",
       "      <td>0.0</td>\n",
       "      <td>0.2</td>\n",
       "      <td>0.0</td>\n",
       "      <td>0.0</td>\n",
       "      <td>0.4</td>\n",
       "      <td>0.0</td>\n",
       "      <td>0.0</td>\n",
       "      <td>0.2</td>\n",
       "      <td>0.2</td>\n",
       "      <td>0.0</td>\n",
       "      <td>0.0</td>\n",
       "      <td>0.0</td>\n",
       "      <td>0.0</td>\n",
       "      <td>0.0</td>\n",
       "      <td>0.2</td>\n",
       "      <td>0</td>\n",
       "      <td>0</td>\n",
       "      <td>-0.4</td>\n",
       "      <td>2020</td>\n",
       "      <td>NaN</td>\n",
       "      <td>0.000000</td>\n",
       "    </tr>\n",
       "    <tr>\n",
       "      <td>538</td>\n",
       "      <td>William Howard</td>\n",
       "      <td>HOU</td>\n",
       "      <td>26</td>\n",
       "      <td>2</td>\n",
       "      <td>1</td>\n",
       "      <td>1</td>\n",
       "      <td>6.6</td>\n",
       "      <td>0.0</td>\n",
       "      <td>0.0</td>\n",
       "      <td>2.0</td>\n",
       "      <td>0.0</td>\n",
       "      <td>0.0</td>\n",
       "      <td>2.0</td>\n",
       "      <td>0.0</td>\n",
       "      <td>0.0</td>\n",
       "      <td>0.0</td>\n",
       "      <td>0.0</td>\n",
       "      <td>0.0</td>\n",
       "      <td>1.0</td>\n",
       "      <td>1.0</td>\n",
       "      <td>0.5</td>\n",
       "      <td>0.5</td>\n",
       "      <td>0.0</td>\n",
       "      <td>0.0</td>\n",
       "      <td>0.5</td>\n",
       "      <td>1.5</td>\n",
       "      <td>0</td>\n",
       "      <td>0</td>\n",
       "      <td>-8.0</td>\n",
       "      <td>2020</td>\n",
       "      <td>50000.0</td>\n",
       "      <td>0.000000</td>\n",
       "    </tr>\n",
       "  </tbody>\n",
       "</table>\n",
       "<p>539 rows × 32 columns</p>\n",
       "</div>"
      ],
      "text/plain": [
       "                     Player Team  Age  GP   W   L  Mins   PTS   FGM   FGA  \\\n",
       "0              James Harden  HOU   30  61  39  22  36.7  34.4   9.9  22.7   \n",
       "1              Bradley Beal  WAS   26  57  20  37  36.0  30.5  10.4  22.9   \n",
       "2     Giannis Antetokounmpo  MIL   25  57  48   9  30.9  29.6  10.9  20.0   \n",
       "3                Trae Young  ATL   21  60  18  42  35.3  29.6   9.1  20.8   \n",
       "4            Damian Lillard  POR   29  58  27  31  36.9  28.9   9.2  20.0   \n",
       "..                      ...  ...  ...  ..  ..  ..   ...   ...   ...   ...   \n",
       "534  Quinndary Weatherspoon  SAS   23   3   0   3   5.0   0.0   0.0   1.0   \n",
       "535            Stanton Kidd  UTA   28   4   3   1   3.8   0.0   0.0   0.8   \n",
       "536     Talen Horton-Tucker  LAL   19   2   1   1   2.7   0.0   0.0   0.5   \n",
       "537                 Vic Law  ORL   24   5   1   4   1.9   0.0   0.0   0.6   \n",
       "538          William Howard  HOU   26   2   1   1   6.6   0.0   0.0   2.0   \n",
       "\n",
       "      FG%  3PM   3PA   3P%   FTM   FTA   FT%  OREB  DREB   REB  AST  TOV  STL  \\\n",
       "0    43.5  4.4  12.6  35.2  10.1  11.8  86.1   1.0   5.3   6.4  7.4  4.5  1.7   \n",
       "1    45.5  3.0   8.4  35.3   6.8   8.0  84.2   0.9   3.3   4.2  6.1  3.4  1.2   \n",
       "2    54.7  1.5   4.8  30.6   6.3  10.0  63.3   2.3  11.5  13.7  5.8  3.7  1.0   \n",
       "3    43.7  3.4   9.5  36.1   8.0   9.3  86.0   0.5   3.7   4.3  9.3  4.8  1.1   \n",
       "4    45.7  3.9   9.9  39.4   6.7   7.6  88.8   0.5   3.8   4.3  7.8  2.9  1.0   \n",
       "..    ...  ...   ...   ...   ...   ...   ...   ...   ...   ...  ...  ...  ...   \n",
       "534   0.0  0.0   0.3   0.0   0.0   0.0   0.0   0.0   0.3   0.3  0.3  0.0  0.0   \n",
       "535   0.0  0.0   0.3   0.0   0.0   0.0   0.0   0.0   0.8   0.8  0.3  0.5  0.0   \n",
       "536   0.0  0.0   0.5   0.0   0.0   0.0   0.0   0.0   0.0   0.0  1.0  0.0  0.5   \n",
       "537   0.0  0.0   0.2   0.0   0.0   0.4   0.0   0.0   0.2   0.2  0.0  0.0  0.0   \n",
       "538   0.0  0.0   2.0   0.0   0.0   0.0   0.0   0.0   1.0   1.0  0.5  0.5  0.0   \n",
       "\n",
       "     BLK   PF    FP  DD2  TD3   +/-  Year      Salary        TS  \n",
       "0    0.9  3.4  56.4   19    4   4.1  2020  37800000.0  0.616664  \n",
       "1    0.4  2.2  46.3    8    0  -3.5  2020  27093019.0  0.577214  \n",
       "2    1.0  3.0  57.3   52    4  11.4  2020  25842697.0  0.606557  \n",
       "3    0.1  1.7  47.6   28    2  -3.8  2020   6273000.0  0.594569  \n",
       "4    0.4  1.7  47.0   16    1   1.2  2020  29802321.0  0.619003  \n",
       "..   ...  ...   ...  ...  ...   ...   ...         ...       ...  \n",
       "534  0.0  0.0   0.9    0    0   1.3  2020         NaN  0.000000  \n",
       "535  0.0  0.8   0.8    0    0  -0.3  2020    250000.0  0.000000  \n",
       "536  0.0  0.0   3.0    0    0  -3.5  2020    898310.0  0.000000  \n",
       "537  0.0  0.0   0.2    0    0  -0.4  2020         NaN  0.000000  \n",
       "538  0.0  0.5   1.5    0    0  -8.0  2020     50000.0  0.000000  \n",
       "\n",
       "[539 rows x 32 columns]"
      ]
     },
     "execution_count": 38,
     "metadata": {},
     "output_type": "execute_result"
    }
   ],
   "source": [
    "\n",
    "data20_w_salary"
   ]
  },
  {
   "cell_type": "code",
   "execution_count": 39,
   "metadata": {},
   "outputs": [
    {
     "data": {
      "text/plain": [
       "Text(0.5, 1.0, 'NBA Salary Distribution')"
      ]
     },
     "execution_count": 39,
     "metadata": {},
     "output_type": "execute_result"
    },
    {
     "data": {
      "image/png": "[encoded data removed]",
      "text/plain": [
       "<Figure size 432x288 with 1 Axes>"
      ]
     },
     "metadata": {
      "needs_background": "light"
     },
     "output_type": "display_data"
    }
   ],
   "source": [
    "plt.axes([2, 2, 2, 2])\n",
    "sns.distplot(data20_w_salary[data20_w_salary['Salary']> 500000]['Salary'], kde=False, bins=10, \n",
    "             color='b', norm_hist=False)\n",
    "plt.xlim(0,40000000)\n",
    "plt.ticklabel_format(style='plain', axis='x')\n",
    "plt.title('NBA Salary Distribution')"
   ]
  },
  {
   "cell_type": "code",
   "execution_count": 52,
   "metadata": {},
   "outputs": [
    {
     "data": {
      "text/plain": [
       "Text(27.125, 0.5, 'Points per Game')"
      ]
     },
     "execution_count": 52,
     "metadata": {},
     "output_type": "execute_result"
    },
    {
     "data": {
      "image/png": "[encoded data removed]",
      "text/plain": [
       "<Figure size 432x432 with 3 Axes>"
      ]
     },
     "metadata": {
      "needs_background": "light"
     },
     "output_type": "display_data"
    }
   ],
   "source": [
    "#Joinplot of Points per Game vs Salary\n",
    "g = sns.jointplot(data = data20_w_salary, x='Salary', y='PTS', kind=\"hex\", color=\"b\")\n",
    "#plt.ticklabel_format(style='plain', axis='x')\n",
    "#a.ax_joint.set_xticks(['0', '5', '10','15','20','25','30','35','40'])\n",
    "#a.set(xlim=(0,40), xticks=[0, 5,10,15,20,25,30,35,40])\n",
    "plt.subplots_adjust(top=1)\n",
    "plt.suptitle('Distribution of Scoring vs Salary in the NBA')\n",
    "g.ax_joint.set_xlabel('Salary (x10 Million)')\n",
    "g.ax_joint.set_ylabel('Points per Game')"
   ]
  },
  {
   "cell_type": "code",
   "execution_count": 41,
   "metadata": {},
   "outputs": [
    {
     "data": {
      "text/plain": [
       "Text(27.125, 0.5, 'Total Shooting Percentage')"
      ]
     },
     "execution_count": 41,
     "metadata": {},
     "output_type": "execute_result"
    },
    {
     "data": {
      "image/png": "[encoded data removed]",
      "text/plain": [
       "<Figure size 432x432 with 3 Axes>"
      ]
     },
     "metadata": {
      "needs_background": "light"
     },
     "output_type": "display_data"
    }
   ],
   "source": [
    "#Joinplot of Total Shooting Percentage vs Salary\n",
    "a = sns.jointplot(data = data20_w_salary, x='Salary', y='TS', kind=\"hex\", color=\"b\")\n",
    "a.ax_joint.set_xlabel('Salary (x10 Million)')\n",
    "a.ax_joint.set_ylabel('Total Shooting Percentage')"
   ]
  },
  {
   "cell_type": "code",
   "execution_count": 42,
   "metadata": {},
   "outputs": [
    {
     "data": {
      "text/plain": [
       "Text(27.125, 0.5, 'Total Shooting Percentage')"
      ]
     },
     "execution_count": 42,
     "metadata": {},
     "output_type": "execute_result"
    },
    {
     "data": {
      "image/png": "[encoded data removed]",
      "text/plain": [
       "<Figure size 432x432 with 3 Axes>"
      ]
     },
     "metadata": {
      "needs_background": "light"
     },
     "output_type": "display_data"
    }
   ],
   "source": [
    "b = sns.jointplot(data = data20_w_salary, x='Salary', y='TS', kind=\"hex\", color=\"b\")\n",
    "b.ax_joint.set_xlabel('Salary (x10 Million)')\n",
    "b.ax_joint.set_ylabel('Total Shooting Percentage')"
   ]
  },
  {
   "cell_type": "code",
   "execution_count": 43,
   "metadata": {},
   "outputs": [],
   "source": [
    "#Filtering for undervalued scorers\n",
    "\n",
    "undervalued=data20_w_salary[(data20_w_salary['Salary']<5000000) & (data20_w_salary['PTS']>15)]"
   ]
  },
  {
   "cell_type": "code",
   "execution_count": 44,
   "metadata": {},
   "outputs": [
    {
     "data": {
      "text/plain": [
       "Text(0, 0.5, 'Points per Game')"
      ]
     },
     "execution_count": 44,
     "metadata": {},
     "output_type": "execute_result"
    },
    {
     "data": {
      "image/png": "[encoded data removed]",
      "text/plain": [
       "<Figure size 432x288 with 1 Axes>"
      ]
     },
     "metadata": {
      "needs_background": "light"
     },
     "output_type": "display_data"
    }
   ],
   "source": [
    "sns.scatterplot(x='Salary', y='PTS', hue = 'Player', data=undervalued, s =100, palette = sns.color_palette(\"Paired\", n_colors=16))\n",
    "plt.legend(loc='center left', bbox_to_anchor=(1, .6))\n",
    "plt.title('Value Scorers in the NBA')\n",
    "plt.ylabel('Points per Game')"
   ]
  },
  {
   "cell_type": "code",
   "execution_count": null,
   "metadata": {},
   "outputs": [],
   "source": []
  },
  {
   "cell_type": "code",
   "execution_count": null,
   "metadata": {},
   "outputs": [],
   "source": []
  },
  {
   "cell_type": "code",
   "execution_count": null,
   "metadata": {},
   "outputs": [],
   "source": []
  },
  {
   "cell_type": "code",
   "execution_count": null,
   "metadata": {},
   "outputs": [],
   "source": []
  }
 ],
 "metadata": {
  "kernelspec": {
   "display_name": "Python 3",
   "language": "python",
   "name": "python3"
  },
  "language_info": {
   "codemirror_mode": {
    "name": "ipython",
    "version": 3
   },
   "file_extension": ".py",
   "mimetype": "text/x-python",
   "name": "python",
   "nbconvert_exporter": "python",
   "pygments_lexer": "ipython3",
   "version": "3.7.4"
  }
 },
 "nbformat": 4,
 "nbformat_minor": 2
}
